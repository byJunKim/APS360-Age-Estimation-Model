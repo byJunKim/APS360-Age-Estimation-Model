{
 "cells": [
  {
   "cell_type": "code",
   "execution_count": null,
   "metadata": {},
   "outputs": [],
   "source": [
    "import numpy as np\n",
    "import time\n",
    "import torch\n",
    "import torch.nn as nn\n",
    "import torch.nn.functional as F\n",
    "import torch.optim as optim\n",
    "import torchvision\n",
    "import torchvision.models as models\n",
    "import torchvision.transforms as transforms\n",
    "import matplotlib.pyplot as plt\n",
    "from PIL import Image\n",
    "from google.cloud import storage"
   ]
  },
  {
   "cell_type": "code",
   "execution_count": null,
   "metadata": {},
   "outputs": [],
   "source": [
    "%run Accuracy_Module.py\n",
    "%run DataLoading.py\n",
    "%run load_and_organize_dataset.py"
   ]
  },
  {
   "cell_type": "code",
   "execution_count": null,
   "metadata": {},
   "outputs": [],
   "source": [
    "!apt-get install p7zip-full\n",
    "!p7zip -d UTKFace.tar.gz\n",
    "!tar -xvf UTKFace.tar.gz"
   ]
  },
  {
   "cell_type": "code",
   "execution_count": null,
   "metadata": {},
   "outputs": [],
   "source": [
    "in_path = 'UTKFace/'\n",
    "out_path = 'Data/'\n",
    "\n",
    "count = organize_files(in_path, out_path, 1, 95)"
   ]
  },
  {
   "cell_type": "code",
   "execution_count": null,
   "metadata": {},
   "outputs": [],
   "source": [
    "train_data, valid_data, test_data = load_dataset(128)"
   ]
  },
  {
   "cell_type": "code",
   "execution_count": null,
   "metadata": {},
   "outputs": [],
   "source": [
    "for data in train_data:\n",
    "    data, label =  data\n",
    "    break"
   ]
  },
  {
   "cell_type": "code",
   "execution_count": null,
   "metadata": {},
   "outputs": [],
   "source": []
  },
  {
   "cell_type": "code",
   "execution_count": null,
   "metadata": {},
   "outputs": [],
   "source": [
    "vgg16 = models.vgg16()\n",
    "vgg16 = nn.Sequential(vgg16.features, vgg16.avgpool)\n",
    "\n",
    "pre_trained = torch.load(\"vgg_face_dag.pth\")\n",
    "new = list(pre_trained.items())\n",
    "vgg16_state = vgg16.state_dict()\n",
    "count = 0\n",
    "for key, value in vgg16_state.items():\n",
    "    layer_name, weights = new[count]      \n",
    "    vgg16_state[key] = weights\n",
    "    count += 1\n",
    "\n",
    "vgg16.load_state_dict(vgg16_state)"
   ]
  },
  {
   "cell_type": "code",
   "execution_count": null,
   "metadata": {},
   "outputs": [],
   "source": [
    "vgg16.cuda()"
   ]
  },
  {
   "cell_type": "code",
   "execution_count": null,
   "metadata": {},
   "outputs": [],
   "source": [
    "class VGG_classifier(nn.Module):\n",
    "    def __init__(self, num_classes):\n",
    "        super(VGG_classifier, self).__init__()\n",
    "        self.name = \"vgg_class\"\n",
    "        self.fc1 = nn.Linear(25088, 4096)\n",
    "        self.fc2 = nn.Linear(4096, 4096)\n",
    "        self.fc3 = nn.Linear(4096, 1000)\n",
    "        self.fc4 = nn.Linear(1000, num_classes)\n",
    "        self.dropout = nn.Dropout(0.5)\n",
    "        self.softmax = nn.Softmax(dim=1)\n",
    "    \n",
    "    def forward(self, x):\n",
    "        x = x.cuda()\n",
    "        x = vgg16(x)\n",
    "        x = x.view(x.shape[0], -1)\n",
    "        x = F.relu(self.fc1(x))\n",
    "        x = F.relu(self.fc2(x))\n",
    "        x = F.relu(self.fc3(x))\n",
    "        x = self.fc4(x)        \n",
    "        x = self.softmax(x)\n",
    "\n",
    "        ranges = torch.tensor(np.arange(1,96)).float()\n",
    "        ranges = torch.tensor(np.tile(ranges,(x.shape[0],1)), requires_grad=True).cuda()\n",
    "        ranges = torch.autograd.Variable(ranges, requires_grad=True)\n",
    "        x = x * ranges\n",
    "        x = x.sum(dim=1)\n",
    "\n",
    "        return x"
   ]
  },
  {
   "cell_type": "code",
   "execution_count": null,
   "metadata": {},
   "outputs": [],
   "source": [
    "class VGG_regression(nn.Module):\n",
    "    def __init__(self):\n",
    "        super(VGG_regression, self).__init__()\n",
    "        self.name = \"vgg_regression\"\n",
    "        self.fc1 = nn.Linear(25088, 4096)\n",
    "        self.fc2 = nn.Linear(4096, 4096)\n",
    "        self.fc3 = nn.Linear(4096, 1024)\n",
    "        self.fc4 = nn.Linear(1024, 1)\n",
    "        self.dropout = nn.Dropout(0.5)\n",
    "    \n",
    "    def forward(self, x):\n",
    "        x = x.cuda()\n",
    "        x = vgg16(x)\n",
    "        x = x.view(x.shape[0],-1)\n",
    "        x = F.relu(self.fc1(x))\n",
    "        x = self.dropout(x)\n",
    "        x = F.relu(self.fc2(x))\n",
    "        x = self.dropout(x)\n",
    "        x = F.relu(self.fc3(x))\n",
    "        x = self.dropout(x)\n",
    "        x = self.fc4(x)\n",
    "        x = x.squeeze(1)\n",
    "        \n",
    "        return x"
   ]
  },
  {
   "cell_type": "code",
   "execution_count": null,
   "metadata": {},
   "outputs": [],
   "source": [
    "def evaluate(data_eval, net, criterion, batch_size =32):\n",
    "    total_epoch = 0\n",
    "    total_loss = 0\n",
    "    for inputs, labels in data_eval:\n",
    "        outputs = net(inputs.cuda())\n",
    "        loss = criterion(outputs.cuda(), labels.float().cuda())\n",
    "        total_loss += loss.item()\n",
    "        total_epoch += len(labels)\n",
    "    return float(total_loss)/(total_epoch)\n",
    "  "
   ]
  },
  {
   "cell_type": "code",
   "execution_count": null,
   "metadata": {},
   "outputs": [],
   "source": [
    "def train_net(train_data, valid_data, net, pretrained = \"VGG\", batch_size=32, learning_rate=5e-05, num_epochs=30):\n",
    "    \n",
    "    \n",
    "    ########################################################################\n",
    "    # Fixed PyTorch random seed for reproducible result\n",
    "    from torch.autograd import Variable\n",
    "    torch.manual_seed(1000)\n",
    "    ########################################################################\n",
    "    # Obtain the PyTorch data loader objects to load batches of the datasets\n",
    "    #train_loader, val_loader, test_loader = load_dataset(batch_size)\n",
    "    ########################################################################\n",
    "    # Define the Loss function and optimizer\n",
    "    # The loss function will be \n",
    "    # Optimizer will be SGD with Momentum.\n",
    "    \n",
    "    criterion = nn.MSELoss().cuda()\n",
    "    optimizer = torch.optim.Adam(net.parameters(), lr=learning_rate, weight_decay=1e-5)\n",
    "\n",
    "    # optimizer = optim.SGD(net.parameters(), lr=learning_rate, momentum=0.9)\n",
    "    ########################################################################\n",
    "    # Train the network\n",
    "    # Loop over the data iterator and sample a new batch of training data\n",
    "    # Get the output from the network, and optimize our loss function.\n",
    "    start_time = time.time()\n",
    "    train_losses, val_losses, train_acc, val_acc = [], [], [], []\n",
    "    for epoch in range(num_epochs):  # loop over the dataset multiple times\n",
    "        total_epoch = 0\n",
    "        total_train_loss = 0\n",
    "        #random.shuffle(train_data)\n",
    "        for inputs, labels in train_data:\n",
    "            # Zero the parameter gradients\n",
    "            optimizer.zero_grad()\n",
    "            # Forward pass, backward pass, and optimize\n",
    "            outputs = net(Variable(inputs.cuda()))\n",
    "            loss = criterion(outputs.cuda(), labels.float().cuda())\n",
    "            loss.backward()\n",
    "            optimizer.step()\n",
    "            total_train_loss += loss.item()\n",
    "            total_epoch += len(labels) #adding batch size\n",
    "            \n",
    "        # save the current training information\n",
    "        train_losses.append(float(total_train_loss)/total_epoch)            # compute *average* loss\n",
    "        val_losses.append(evaluate(valid_data, net, criterion, batch_size = batch_size))\n",
    "        train_acc.append(get_accuracy(net, train_data)) # compute training accuracy \n",
    "        val_acc.append(get_accuracy(net, valid_data))  # compute validation accuracy\n",
    "            \n",
    "        print(\"Epoch: {}, Training Loss: {:.3f}, Validation Loss: {:.3f}, Training Accuracy: {:.3f}, Validation Accuracy: {:.3f}\".format(epoch+1, train_losses[-1], val_losses[-1], train_acc[-1],val_acc[-1]))\n",
    "        # Save the current model (checkpoint) to a file\n",
    "        torch.save({ 'epoch': epoch, 'model_state_dict': net.state_dict(), 'optimizer_state_dict': optimizer.state_dict(), 'train_loss': train_losses, 'train_accuracy': train_acc, 'valid_loss': val_losses, 'val_accuracy': val_acc}, \n",
    "                   \"{}_features_bs{}_lr{}\".format(pretrained, batch_size, learning_rate))\n",
    "        \n",
    "        #saving it in the google cloud storage\n",
    "        client = storage.Client()\n",
    "        bucket = client.get_bucket(\"aps360team12\")\n",
    "        blob_name = \"VGG_features_bs32_lr5e-05\"\n",
    "        blob = bucket.blob(blob_name)\n",
    "\n",
    "        source_file_name = \"{}_features_bs{}_lr{}\".format(pretrained, batch_size, learning_rate)\n",
    "        blob.upload_from_filename(source_file_name)\n",
    "        print(\"File uploaded to {}.\".format(bucket.name))\n",
    "        \n",
    "    \n",
    "    \n",
    "        \n",
    "    # plotting\n",
    "    plt.title(\"Loss curves w/ lr={}, batch size = {}\".format(learning_rate, batch_size))\n",
    "    plt.axis([0, num_epochs, 0, max(train_losses[0], val_losses[0])])\n",
    "    plt.plot(train_losses, label=\"Train loss\")\n",
    "    plt.plot(val_losses, label=\"Validation loss\")\n",
    "    plt.xlabel(\"Epoch\")\n",
    "    plt.ylabel(\"Loss\")\n",
    "    plt.show()\n",
    "\n",
    "    plt.title(\"Acc curves w/ lr={}, batch size = {}\".format(learning_rate, batch_size))\n",
    "    plt.axis([0, num_epochs, 0, min(train_acc[0], val_acc[0])])\n",
    "    plt.plot(train_acc, label=\"Train\")\n",
    "    plt.plot(val_acc, label=\"Validation\")\n",
    "    plt.xlabel(\"Epoch\")\n",
    "    plt.ylabel(\"Training Accuracy\")\n",
    "    plt.legend(loc='best')\n",
    "    plt.show()\n",
    "\n",
    "    print(\"Final Training Accuracy: {}\".format(train_acc[-1]))\n",
    "    print(\"Final Validation Accuracy: {}\".format(val_acc[-1]))\n",
    "\n",
    "    print('Finished Training')\n",
    "    end_time = time.time()\n",
    "    elapsed_time = end_time - start_time\n",
    "    print(\"Total time elapsed: {:.2f} seconds\".format(elapsed_time))"
   ]
  },
  {
   "cell_type": "code",
   "execution_count": null,
   "metadata": {},
   "outputs": [],
   "source": [
    "def get_accuracy(model, data, batch_size = 32):\n",
    "    c=0\n",
    "    mean = 0.0\n",
    "    for imgs, labels in data:\n",
    "        mean += labels.sum()\n",
    "        c+=32\n",
    "    mean = (mean/c)\n",
    "    \n",
    "    #print(mean)\n",
    "    \n",
    "    correct = 0\n",
    "    total = 0\n",
    "    count = 0 \n",
    "    ss_reg = 0\n",
    "    ss_total = 0\n",
    "    \n",
    "    for imgs, labels in data:\n",
    "        labels = labels.float()\n",
    "        output = model(imgs) # We don't need to run F.softmax\n",
    "        # print(output)\n",
    "        # pred = output.max(1, keepdim=True)[1] # get the index of the max log-probability\n",
    "        # correct += pred.eq(labels.view_as(pred)).sum().item()\n",
    "        output = torch.round(output)\n",
    "        output = output.float()\n",
    "        output = output.cpu().detach().numpy()\n",
    "        output = torch.tensor(output)\n",
    "        #correct += np.isclose(output.detach().numpy(), labels, 0.05).sum()\n",
    "        total += imgs.shape[0]\n",
    "        count+=1\n",
    "        ss_reg += ((labels-output)**2).sum()\n",
    "        ss_total += ((labels-mean)**2).sum()\n",
    "    return 1-ss_reg/ss_total"
   ]
  },
  {
   "cell_type": "code",
   "execution_count": null,
   "metadata": {},
   "outputs": [],
   "source": [
    "vgg_regression = VGG_regression()\n",
    "vgg_regression.cuda()"
   ]
  },
  {
   "cell_type": "code",
   "execution_count": null,
   "metadata": {},
   "outputs": [],
   "source": [
    "train_net(train_data, valid_data, vgg_regression, batch_size = 64, num_epochs = 30)"
   ]
  },
  {
   "cell_type": "code",
   "execution_count": null,
   "metadata": {},
   "outputs": [],
   "source": [
    "train1 = torch.load(\"VGG_features_bs32_lr5e-05\")"
   ]
  },
  {
   "cell_type": "code",
   "execution_count": null,
   "metadata": {},
   "outputs": [],
   "source": [
    "#print(train1['model_state_dict'])\n",
    "#print(train1['optimizer_state_dict'])\n",
    "print(train1['train_loss'])\n",
    "print(train1['train_accuracy'])\n",
    "print(train1['valid_loss'])\n",
    "print(train1['val_accuracy'])\n"
   ]
  },
  {
   "cell_type": "code",
   "execution_count": null,
   "metadata": {},
   "outputs": [],
   "source": [
    "train2 = torch.load(\"VGG_features_bs32_lr5e-05\")"
   ]
  },
  {
   "cell_type": "code",
   "execution_count": null,
   "metadata": {},
   "outputs": [],
   "source": [
    "print(train2['train_loss'])\n",
    "print(train2['train_accuracy'])\n",
    "print(train2['valid_loss'])\n",
    "print(train2['val_accuracy'])\n"
   ]
  },
  {
   "cell_type": "code",
   "execution_count": null,
   "metadata": {},
   "outputs": [],
   "source": [
    "train3 = torch.load(\"VGG_features_bs32_lr5e-05\")"
   ]
  },
  {
   "cell_type": "code",
   "execution_count": null,
   "metadata": {},
   "outputs": [],
   "source": [
    "print(train3['train_loss'])\n",
    "print(train3['train_accuracy'])\n",
    "print(train3['valid_loss'])\n",
    "print(train3['val_accuracy'])\n"
   ]
  },
  {
   "cell_type": "code",
   "execution_count": null,
   "metadata": {},
   "outputs": [],
   "source": [
    "client = storage.Client()\n",
    "bucket = client.get_bucket(\"aps360team12\")\n",
    "blob_name = \"VGG_features_bs32_lr5e-05\"\n",
    "blob = bucket.blob(blob_name)\n",
    "\n",
    "source_file_name = \"{}_features_bs{}_lr{}\".format(\"VGG\", 32, 5e-05)\n",
    "blob.upload_from_filename(source_file_name)\n",
    "\n",
    "print(\"File uploaded to {}.\".format(bucket.name))"
   ]
  },
  {
   "cell_type": "code",
   "execution_count": null,
   "metadata": {},
   "outputs": [],
   "source": []
  }
 ],
 "metadata": {
  "kernelspec": {
   "display_name": "Python 3",
   "language": "python",
   "name": "python3"
  },
  "language_info": {
   "codemirror_mode": {
    "name": "ipython",
    "version": 3
   },
   "file_extension": ".py",
   "mimetype": "text/x-python",
   "name": "python",
   "nbconvert_exporter": "python",
   "pygments_lexer": "ipython3",
   "version": "3.7.1"
  }
 },
 "nbformat": 4,
 "nbformat_minor": 2
}
